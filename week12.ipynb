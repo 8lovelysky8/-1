{
  "nbformat": 4,
  "nbformat_minor": 0,
  "metadata": {
    "colab": {
      "name": "Untitled27.ipynb",
      "provenance": [],
      "authorship_tag": "ABX9TyOX6sE5hvGXDfAlKlagY+bQ",
      "include_colab_link": true
    },
    "kernelspec": {
      "name": "python3",
      "display_name": "Python 3"
    }
  },
  "cells": [
    {
      "cell_type": "markdown",
      "metadata": {
        "id": "view-in-github",
        "colab_type": "text"
      },
      "source": [
        "<a href=\"https://colab.research.google.com/github/8lovelysky8/Data-Science/blob/master/week12.ipynb\" target=\"_parent\"><img src=\"https://colab.research.google.com/assets/colab-badge.svg\" alt=\"Open In Colab\"/></a>"
      ]
    },
    {
      "cell_type": "code",
      "metadata": {
        "id": "fprvg1FhKPia",
        "colab_type": "code",
        "colab": {
          "base_uri": "https://localhost:8080/",
          "height": 102
        },
        "outputId": "3af4a829-8b8f-4b12-be9a-1e68c756ee8b"
      },
      "source": [
        "x = int(input(\"請輸入起始的正整數:\"))\n",
        "y = int(input(\"請輸入終止的正整數:\"))\n",
        "odds = []\n",
        "for i in range(x, y+1):\n",
        "    mod = i % 2\n",
        "    if mod == 1:\n",
        "        odds.append(i)\n",
        "    #print(i)\n",
        "print(odds)      #奇數為何\n",
        "print(len(odds)) #記數\n",
        "print(sum(odds)) #加總"
      ],
      "execution_count": 1,
      "outputs": [
        {
          "output_type": "stream",
          "text": [
            "請輸入起始的正整數:15\n",
            "請輸入終止的正整數:39\n",
            "[15, 17, 19, 21, 23, 25, 27, 29, 31, 33, 35, 37, 39]\n",
            "13\n",
            "351\n"
          ],
          "name": "stdout"
        }
      ]
    },
    {
      "cell_type": "code",
      "metadata": {
        "id": "HyUxdPSaLG3b",
        "colab_type": "code",
        "colab": {
          "base_uri": "https://localhost:8080/",
          "height": 68
        },
        "outputId": "7d0a1669-3cfb-469d-e1ab-5ed8c453b61e"
      },
      "source": [
        "x = int(input(\"請輸入一個正整數:\"))\n",
        "divisors = []\n",
        "for i in range(1, x+1):\n",
        "    if x % i == 0:\n",
        "        divisors.append(i)\n",
        "print(divisors)\n",
        "n_divisors = len(divisors)\n",
        "if n_divisors == 2:\n",
        "    print(\"{}是質數\".format(x))\n",
        "else:\n",
        "    print(\"{}不是質數\".format(x))"
      ],
      "execution_count": 2,
      "outputs": [
        {
          "output_type": "stream",
          "text": [
            "請輸入一個正整數:2\n",
            "[1, 2]\n",
            "2是質數\n"
          ],
          "name": "stdout"
        }
      ]
    },
    {
      "cell_type": "code",
      "metadata": {
        "id": "4qDkZXsWLasq",
        "colab_type": "code",
        "colab": {
          "base_uri": "https://localhost:8080/",
          "height": 85
        },
        "outputId": "2f8e2b20-6886-4fae-b1d2-3f12649e1d75"
      },
      "source": [
        "avengers = [\"The Avengers\", \"Avengers: Age of Ultron\", \"Avengers: Infinity War\", \"Avengers: Endgame\"]\n",
        "for idx, movie in enumerate(avengers):\n",
        "    print(\"第 {} 部上映的復仇者聯盟電影:{}\".format(idx+1, movie))"
      ],
      "execution_count": 3,
      "outputs": [
        {
          "output_type": "stream",
          "text": [
            "第 1 部上映的復仇者聯盟電影:The Avengers\n",
            "第 2 部上映的復仇者聯盟電影:Avengers: Age of Ultron\n",
            "第 3 部上映的復仇者聯盟電影:Avengers: Infinity War\n",
            "第 4 部上映的復仇者聯盟電影:Avengers: Endgame\n"
          ],
          "name": "stdout"
        }
      ]
    },
    {
      "cell_type": "code",
      "metadata": {
        "id": "_MUXWFZQLgwj",
        "colab_type": "code",
        "colab": {
          "base_uri": "https://localhost:8080/",
          "height": 85
        },
        "outputId": "5fbc18a8-648d-44ed-de21-33334850eb24"
      },
      "source": [
        "years = [2012, 2015, 2018, 2019]\n",
        "for year, movie in zip(years, avengers):\n",
        "    print(\"{}上映的年份是{}\".format(movie, year))"
      ],
      "execution_count": 4,
      "outputs": [
        {
          "output_type": "stream",
          "text": [
            "The Avengers上映的年份是2012\n",
            "Avengers: Age of Ultron上映的年份是2015\n",
            "Avengers: Infinity War上映的年份是2018\n",
            "Avengers: Endgame上映的年份是2019\n"
          ],
          "name": "stdout"
        }
      ]
    }
  ]
}